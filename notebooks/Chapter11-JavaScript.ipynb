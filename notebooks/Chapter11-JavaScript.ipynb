{
 "cells": [
  {
   "cell_type": "code",
   "execution_count": 24,
   "metadata": {},
   "outputs": [
    {
     "name": "stdout",
     "output_type": "stream",
     "text": [
      "This is some content that will appear on the page while it's loading. You don't care about scraping this.\n"
     ]
    }
   ],
   "source": [
    "import time\n",
    "\n",
    "from selenium.webdriver import Chrome\n",
    "from selenium.webdriver.common.by import By\n",
    "from selenium.webdriver.chrome.service import Service\n",
    "from selenium.webdriver.chrome.options import Options\n",
    "\n",
    "url = \"http://pythonscraping.com/pages/javascript/ajaxDemo.html\"\n",
    "\n",
    "chrome_options = Options()\n",
    "chrome_options.binary_location = \"../chrome/chrome-linux64/chrome\"\n",
    "\n",
    "chrome_options.add_argument(\"--headless\")  # type: ignore\n",
    "chrome_options.add_argument(\"--disable-gpu\")  # type: ignore\n",
    "\n",
    "chrome_service = Service(\n",
    "    executable_path=\"../chrome/chromedriver-linux64/chromedriver\"\n",
    ")\n",
    "driver = Chrome(options=chrome_options, service=chrome_service)\n",
    "\n",
    "try:\n",
    "    driver.get(url)\n",
    "    time.sleep(3)\n",
    "    print(driver.find_element(By.ID, \"content\").text)\n",
    "finally:\n",
    "    driver.close()"
   ]
  },
  {
   "cell_type": "code",
   "execution_count": 2,
   "metadata": {},
   "outputs": [
    {
     "name": "stdout",
     "output_type": "stream",
     "text": [
      "Here is some important text you want to retrieve!\n",
      "A button to click!\n"
     ]
    }
   ],
   "source": [
    "from selenium.webdriver.common.by import By\n",
    "from selenium.webdriver.support.wait import WebDriverWait\n",
    "from selenium.webdriver.support import expected_conditions as EC\n",
    "\n",
    "url = \"http://pythonscraping.com/pages/javascript/ajaxDemo.html\"\n",
    "driver = Chrome(options=chrome_options, service=chrome_service)\n",
    "\n",
    "try:\n",
    "    driver.get(url)\n",
    "    element = WebDriverWait(driver, 10).until(\n",
    "        EC.presence_of_element_located((By.ID, \"loadedButton\"))\n",
    "    )\n",
    "finally:\n",
    "    driver.close()"
   ]
  },
  {
   "cell_type": "code",
   "execution_count": 27,
   "metadata": {},
   "outputs": [
    {
     "name": "stdout",
     "output_type": "stream",
     "text": [
      "Timing out after 10 seconds and returning\n",
      "<html><head>\n",
      "<title>The Destination Page!</title>\n",
      "\n",
      "</head>\n",
      "<body>\n",
      "This is the page you are looking for!\n",
      "\n",
      "</body></html>\n"
     ]
    }
   ],
   "source": [
    "from selenium.common.exceptions import StaleElementReferenceException\n",
    "\n",
    "\n",
    "def wait_for_load(driver: Chrome, timeout: int = 10):\n",
    "    driver.find_element(By.TAG_NAME, \"html\")\n",
    "\n",
    "    start_time = time.time()\n",
    "    while time.time() - start_time < timeout:\n",
    "        try:\n",
    "            driver.find_element(By.TAG_NAME, \"html\")\n",
    "            time.sleep(0.5)\n",
    "        except StaleElementReferenceException:\n",
    "            return\n",
    "\n",
    "    print(f\"Timing out after {timeout} seconds and returning\")\n",
    "\n",
    "\n",
    "driver = Chrome(options=chrome_options, service=chrome_service)\n",
    "url = \"http://pythonscraping.com/pages/javascript/redirectDemo1.html\"\n",
    "\n",
    "try:\n",
    "    driver.get(url)\n",
    "    wait_for_load(driver)\n",
    "    print(driver.page_source)\n",
    "finally:\n",
    "    driver.close()"
   ]
  },
  {
   "cell_type": "code",
   "execution_count": null,
   "metadata": {},
   "outputs": [],
   "source": []
  }
 ],
 "metadata": {
  "kernelspec": {
   "display_name": "Python 3",
   "language": "python",
   "name": "python3"
  },
  "language_info": {
   "codemirror_mode": {
    "name": "ipython",
    "version": 3
   },
   "file_extension": ".py",
   "mimetype": "text/x-python",
   "name": "python",
   "nbconvert_exporter": "python",
   "pygments_lexer": "ipython3",
   "version": "3.12.1"
  }
 },
 "nbformat": 4,
 "nbformat_minor": 2
}
