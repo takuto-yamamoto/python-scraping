{
 "cells": [
  {
   "cell_type": "code",
   "execution_count": 2,
   "metadata": {},
   "outputs": [],
   "source": [
    "import os\n",
    "import csv\n",
    "import sqlite3\n",
    "from pathlib import Path\n",
    "from urllib.request import urlopen, urlretrieve\n",
    "from urllib.parse import urlparse, urljoin\n",
    "\n",
    "from bs4 import BeautifulSoup"
   ]
  },
  {
   "cell_type": "code",
   "execution_count": 3,
   "metadata": {},
   "outputs": [],
   "source": [
    "def get_absolute_url(base_url: str, source: str) -> str:\n",
    "    is_absolute = source.startswith((\"http://\", \"https://\"))\n",
    "    has_external_domain = is_absolute and base_url not in source\n",
    "\n",
    "    if has_external_domain:\n",
    "        return None\n",
    "\n",
    "    if is_absolute:\n",
    "        url = source.replace(\"www.\", \"\")\n",
    "    elif source.startswith(\"www.\"):\n",
    "        url = urljoin(\"http://\", source.replace(\"www.\", \"\"))\n",
    "    else:\n",
    "        url = urljoin(base_url, source)\n",
    "\n",
    "    parsed = urlparse(url)\n",
    "    return f\"{parsed.scheme}://{parsed.netloc}{parsed.path}\"\n",
    "\n",
    "\n",
    "def get_download_path(base_url: str, absolute_url: str, download_dir: str):\n",
    "    if not base_url.endswith(\"/\"):\n",
    "        base_url += \"/\"\n",
    "\n",
    "    relative_path = absolute_url.replace(base_url, \"\")\n",
    "    download_path = Path(download_dir) / relative_path\n",
    "\n",
    "    if not os.path.exists(download_path.parent):\n",
    "        os.makedirs(download_path.parent)\n",
    "\n",
    "    return download_path"
   ]
  },
  {
   "cell_type": "code",
   "execution_count": null,
   "metadata": {},
   "outputs": [],
   "source": [
    "download_dir = \"downloaded\"\n",
    "base_url = \"http://pythonscraping.com\"\n",
    "url = \"http://www.pythonscraping.com\"\n",
    "\n",
    "html = urlopen(url)\n",
    "bs = BeautifulSoup(html, \"html.parser\")\n",
    "download_list = bs.find_all(src=True)\n",
    "\n",
    "for download in download_list:\n",
    "    if file_url := get_absolute_url(base_url, download[\"src\"]):\n",
    "        print(file_url)\n",
    "        download_path = get_download_path(base_url, file_url, download_dir)\n",
    "        urlretrieve(file_url, download_path)"
   ]
  },
  {
   "cell_type": "code",
   "execution_count": 3,
   "metadata": {},
   "outputs": [],
   "source": [
    "with open(\"test.csv\", \"w+\") as csv_file:\n",
    "    writer = csv.writer(csv_file)\n",
    "    writer.writerow((\"number\", \"number plus 2\", \"number times 2\"))\n",
    "    for i in range(10):\n",
    "        writer.writerow((i, i + 2, i * 2))"
   ]
  },
  {
   "cell_type": "code",
   "execution_count": 39,
   "metadata": {},
   "outputs": [],
   "source": [
    "def execute_sql_from_file(sql_file: str) -> None:\n",
    "    try:\n",
    "        conn = sqlite3.connect(\"../sqlite/db/chapter6.db\")\n",
    "        cursor = conn.cursor()\n",
    "\n",
    "        with open(f\"../sqlite/sql/chapter5/{sql_file}\", \"r\") as sqlFile:\n",
    "            command = sqlFile.read()\n",
    "\n",
    "        cursor.execute(command)\n",
    "        conn.commit()\n",
    "    finally:\n",
    "        cursor.close()\n",
    "        conn.close()\n",
    "\n",
    "\n",
    "def describe_table(table_name: str):\n",
    "    try:\n",
    "        conn = sqlite3.connect(\"../sqlite/db/chapter6.db\")\n",
    "        cursor = conn.cursor()\n",
    "\n",
    "        cursor.execute(f\"PRAGMA table_info({table_name})\")\n",
    "        columns_info = cursor.fetchall()\n",
    "\n",
    "        for column_info in columns_info:\n",
    "            print(column_info)\n",
    "    finally:\n",
    "        cursor.close()\n",
    "        conn.close()\n",
    "\n",
    "\n",
    "def print_table_data(table_name: str) -> None:\n",
    "    try:\n",
    "        conn = sqlite3.connect(\"../sqlite/db/chapter6.db\")\n",
    "        cursor = conn.cursor()\n",
    "\n",
    "        cursor.execute(f\"SELECT * FROM {table_name}\")\n",
    "        table_data = cursor.fetchall()\n",
    "\n",
    "        for row in table_data:\n",
    "            print(row)\n",
    "    finally:\n",
    "        cursor.close()\n",
    "        conn.close()"
   ]
  },
  {
   "cell_type": "code",
   "execution_count": 43,
   "metadata": {},
   "outputs": [
    {
     "name": "stdout",
     "output_type": "stream",
     "text": [
      "(0, 'id', 'INTEGER', 0, None, 1)\n",
      "(1, 'title', 'TEXT', 0, None, 0)\n",
      "(2, 'content', 'TEXT', 0, None, 0)\n",
      "(3, 'created', 'TIMESTAMP', 0, 'CURRENT_TIMESTAMP', 0)\n"
     ]
    }
   ],
   "source": [
    "execute_sql_from_file(\"create_pages_table.sql\")\n",
    "describe_table(\"pages\")"
   ]
  },
  {
   "cell_type": "code",
   "execution_count": 44,
   "metadata": {},
   "outputs": [
    {
     "name": "stdout",
     "output_type": "stream",
     "text": [
      "(1, 'test title 1', 'test content 1', '2024-02-03 07:22:33')\n",
      "(2, 'test title 2', 'test content 2', '2024-02-03 07:22:33')\n",
      "(3, 'test title 3', 'test content 3', '2024-02-03 07:22:33')\n"
     ]
    }
   ],
   "source": [
    "execute_sql_from_file(\"insert_3items.sql\")\n",
    "print_table_data(\"pages\")"
   ]
  },
  {
   "cell_type": "code",
   "execution_count": 45,
   "metadata": {},
   "outputs": [
    {
     "name": "stdout",
     "output_type": "stream",
     "text": [
      "(1, 'test title 1', 'test content 1', '2024-02-03 07:22:33')\n",
      "(2, 'test title 2', 'test content 2', '2024-02-03 07:22:33')\n",
      "(3, 'new title 3', 'new content 3', '2024-02-03 07:22:33')\n"
     ]
    }
   ],
   "source": [
    "execute_sql_from_file(\"update_item3.sql\")\n",
    "print_table_data(\"pages\")"
   ]
  },
  {
   "cell_type": "code",
   "execution_count": 46,
   "metadata": {},
   "outputs": [
    {
     "name": "stdout",
     "output_type": "stream",
     "text": [
      "(1, 'test title 1', 'test content 1', '2024-02-03 07:22:33')\n",
      "(2, 'test title 2', 'test content 2', '2024-02-03 07:22:33')\n"
     ]
    }
   ],
   "source": [
    "execute_sql_from_file(\"delete_item3.sql\")\n",
    "print_table_data(\"pages\")"
   ]
  },
  {
   "cell_type": "code",
   "execution_count": null,
   "metadata": {},
   "outputs": [],
   "source": []
  }
 ],
 "metadata": {
  "kernelspec": {
   "display_name": "Python 3",
   "language": "python",
   "name": "python3"
  },
  "language_info": {
   "codemirror_mode": {
    "name": "ipython",
    "version": 3
   },
   "file_extension": ".py",
   "mimetype": "text/x-python",
   "name": "python",
   "nbconvert_exporter": "python",
   "pygments_lexer": "ipython3",
   "version": "3.12.1"
  }
 },
 "nbformat": 4,
 "nbformat_minor": 2
}
